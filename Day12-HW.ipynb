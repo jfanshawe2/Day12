{
 "cells": [
  {
   "cell_type": "markdown",
   "id": "33738fde-205d-4e95-b885-807e97a8adf6",
   "metadata": {},
   "source": [
    "## Introduction to Data Science\n",
    "\n",
    "#### University of Redlands - DATA 101\n",
    "#### Prof: Joanna Bieri [joanna_bieri@redlands.edu](mailto:joanna_bieri@redlands.edu)\n",
    "#### [Class Website: data101.joannabieri.com](https://joannabieri.com/data101.html)\n",
    "\n",
    "---------------------------------------\n",
    "# Homework Day 12\n",
    "---------------------------------------\n",
    "\n",
    "GOALS:\n",
    "\n",
    "1. Practice web scraping.\n",
    "\n",
    "----------------------------------------------------------\n",
    "\n",
    "This homework has **3 questions**, **1 exercise** and **1 optional challenge problem**."
   ]
  },
  {
   "cell_type": "markdown",
   "id": "2bf78cd1",
   "metadata": {},
   "source": [
    "## Important Information\n",
    "\n",
    "- Email: [joanna_bieri@redlands.edu](mailto:joanna_bieri@redlands.edu)\n",
    "- Office Hours: Duke 209 <a href=\"https://joannabieri.com/schedule.html\"> Click Here for Joanna's Schedule</a>\n",
    "\n",
    "## Announcements\n",
    "\n",
    "**In NEXT WEEK - Data Ethics** This week you should be reading your book or articles.\n",
    "\n",
    "## Day 12 Assignment - same drill.\n",
    "\n",
    "1. Make sure you can **Fork** and **Clone** the Day12 repo from [Redlands-DATA101](https://github.com/Redlands-DATA101)\n",
    "2. Open the file Day12-HW.ipynb and start doing the problems.\n",
    "    * You can do these problems as you follow along with the lecture notes and video.\n",
    "3. Get as far as you can before class.\n",
    "4. Submit what you have so far **Commit** and **Push** to Git.\n",
    "5. Take the daily check in quiz on **Canvas**.\n",
    "7. Come to class with lots of questions!\n",
    "\n",
    "------------------------------\n",
    "---------------------\n",
    "\n",
    "### Web Scraping Ethical Issues\n",
    "\n",
    "There are some things to be aware of before you start scraping data from the web. \n",
    "\n",
    "- Some data is private or protected. Just because you have access to a websites data doesn't mean you are allowed to scrape it. For example, when you log into Facebook or another social media site, you are granted special access to data about your connected people. It is unethical to use that access to scrape their private data!\n",
    "\n",
    "- Some websites have rules against scraping and will cut of service to users who are clearly scraping data. How do they know? Webscrapers access the website very differently that regular users. If they site has a policy about scraping data then you should follow it and/or content them about getting the data if you have a true academic interest in the data.\n",
    "\n",
    "- The line between web scraping and plagiarism can be very blurry. Make sure that you are citing where your data comes from AND not just reproducing the data exactly. Always citing the source of your data and make sure you are doing something new with it.\n",
    "\n",
    "- Ethics are different depending on if you are using the data for a personal project (eg. you just want to check scores for your favorite team daily and print the stuff you care about) vs if you are using the project for your business or website (eg. publishing information to drive clicks to your site/video/account or making money from the data you collect). In the later case it is EXTRA important to respect the original owner of the data. Drive web traffic back to their site, check with them about using their data, etc.\n",
    "\n",
    "**The Ethical Scraper** (from https://towardsdatascience.com/ethics-in-web-scraping-b96b18136f01):\n",
    "\n",
    "I, the web scraper will live by the following principles:\n",
    "\n",
    "- If you have a public API that provides the data I’m looking for, I’ll use it and avoid scraping all together.\n",
    "- I will always provide a User Agent string that makes my intentions clear and provides a way for you to contact me with questions or concerns.\n",
    "- I will request data at a reasonable rate. I will strive to never be confused for a DDoS attack.\n",
    "- I will only save the data I absolutely need from your page. If all I need it OpenGraph meta-data, that’s all I’ll keep.\n",
    "- I will respect any content I do keep. I’ll never pass it off as my own.\n",
    "- I will look for ways to return value to you. Maybe I can drive some (real) traffic to your site or credit you in an article or post.\n",
    "- I will respond in a timely fashion to your outreach and work with you towards a resolution.\n",
    "- I will scrape for the purpose of creating new value from the data, not to duplicate it."
   ]
  },
  {
   "cell_type": "code",
   "execution_count": 86,
   "id": "b608007e",
   "metadata": {},
   "outputs": [],
   "source": [
    "import numpy as np\n",
    "import pandas as pd\n",
    "\n",
    "import matplotlib.pyplot as plt\n",
    "import plotly.express as px\n",
    "from plotly.subplots import make_subplots\n",
    "import plotly.io as pio\n",
    "pio.renderers.defaule = 'colab'\n",
    "\n",
    "from itables import show\n",
    "\n",
    "# This stops a few warning messages from showing\n",
    "pd.options.mode.chained_assignment = None \n",
    "import warnings\n",
    "warnings.simplefilter(action='ignore', category=FutureWarning)"
   ]
  },
  {
   "cell_type": "code",
   "execution_count": null,
   "id": "cd38c98b-cc3d-4150-973e-b7bc883f0b74",
   "metadata": {},
   "outputs": [],
   "source": []
  },
  {
   "cell_type": "markdown",
   "id": "3eec300d",
   "metadata": {},
   "source": [
    "## Using pandas to get table data.\n",
    "\n",
    "**Optional** - try using pandas to scrape a new site. See if you get errors or are able to find tables on that site.\n"
   ]
  },
  {
   "cell_type": "code",
   "execution_count": 88,
   "id": "87277fa5-4b6a-47fe-98cf-865d8aa57446",
   "metadata": {},
   "outputs": [],
   "source": [
    "import requests\n",
    "from bs4 import BeautifulSoup"
   ]
  },
  {
   "cell_type": "code",
   "execution_count": 90,
   "id": "e27a9adf-7daf-4998-a827-2eda1c9350f4",
   "metadata": {},
   "outputs": [],
   "source": [
    "website = 'https://www.imdb.com/chart/top/'\n",
    "raw_code = requests.get(website)\n",
    "html_doc = raw_code.text\n",
    "soup = BeautifulSoup(html_doc, 'html.parser')"
   ]
  },
  {
   "cell_type": "code",
   "execution_count": null,
   "id": "0982cc24-6212-4271-856e-54e260813001",
   "metadata": {},
   "outputs": [],
   "source": []
  },
  {
   "cell_type": "code",
   "execution_count": null,
   "id": "c5cb5e1a-a1b6-4554-a647-4a855eabb0b5",
   "metadata": {},
   "outputs": [],
   "source": []
  },
  {
   "cell_type": "code",
   "execution_count": null,
   "id": "b8cd5420-7012-4bb3-a3ee-058c9e720502",
   "metadata": {},
   "outputs": [],
   "source": []
  },
  {
   "cell_type": "markdown",
   "id": "9faebc13",
   "metadata": {},
   "source": [
    "---\n",
    "---\n",
    "\n",
    "## Using Beautiful Soup to get HTML code\n",
    "\n",
    "### How to get data from static sites:\n",
    "\n",
    "You should already have the packages bs4 and requests but if you get an error try running:\n",
    "\n",
    "```{python}\n",
    "!conda install -y bs4\n",
    "!conda install -y requests\n",
    "```"
   ]
  },
  {
   "cell_type": "code",
   "execution_count": null,
   "id": "5b2c4ed6-dc60-4361-a082-52ce0987f671",
   "metadata": {},
   "outputs": [],
   "source": []
  },
  {
   "cell_type": "code",
   "execution_count": 92,
   "id": "1688f055",
   "metadata": {},
   "outputs": [],
   "source": [
    "import requests\n",
    "from bs4 import BeautifulSoup"
   ]
  },
  {
   "cell_type": "code",
   "execution_count": 16,
   "id": "aad9d963",
   "metadata": {},
   "outputs": [],
   "source": [
    "website = 'https://www.scrapethissite.com/pages/simple/'"
   ]
  },
  {
   "cell_type": "code",
   "execution_count": 18,
   "id": "08ea4457",
   "metadata": {},
   "outputs": [],
   "source": [
    "raw_code = requests.get(website)\n",
    "html_doc = raw_code.text\n",
    "soup = BeautifulSoup(html_doc, 'html.parser')"
   ]
  },
  {
   "cell_type": "markdown",
   "id": "dd104b88",
   "metadata": {},
   "source": [
    "#### Lets see what is in soup\n",
    "\n",
    "**Q1** Uncomment this line and run the cell. You will see a TON of text!"
   ]
  },
  {
   "cell_type": "code",
   "execution_count": 41,
   "id": "98582e0c",
   "metadata": {},
   "outputs": [],
   "source": [
    "#soup"
   ]
  },
  {
   "cell_type": "markdown",
   "id": "8a248cb1",
   "metadata": {},
   "source": [
    "### Extracting data from HTML:\n",
    "\n",
    "We will use the **soup.find_all()** function.\n",
    "\n",
    "Here is the simplified function signature:\n",
    "\n",
    "    soup.find_all(name=None,attrs={})\n",
    "    \n",
    "You can type soup.find_all? and run it to see all the information about additional arguments and advanced processes.\n",
    "\n",
    "**Here is how we will mostly use it**, but there are much more advanced things you can do:\n",
    "\n",
    "    soup.find_all( <type of section>, <info> )\n",
    "    \n",
    "The **.find_all()** function searches through the information in soup to match and return only sections that match the info. Here are some important types you might search for:\n",
    "\n",
    "- 'h2' - this is a heading\n",
    "- 'div' - this divides a block of information\n",
    "- 'span' - this divides inline information\n",
    "- 'a' - this specifies a hyperlink\n",
    "- 'li' - this is a list item\n",
    "\n",
    "- class_= - many things have the class label (notice the underscore!)\n",
    "- string= - you can also search by strings.\n",
    "\n",
    "\n",
    "### Using Developer tools:\n",
    "\n",
    "To figure out what data to extract I suggest you use developer tools on the website to find what you need. \n",
    "\n",
    "**Q2** Navigate to the website and use developer tools to explore the html code.\n",
    "\n",
    "[Scrape This Site -  Website](https://www.scrapethissite.com/pages/simple/)\n",
    "\n",
    "I really like Brave Browser or Google Chrome for this, but most browsers with have **More Tools/Developer Tools** where you can see the code.\n",
    "\n",
    "### Search for all the country names\n",
    "\n",
    "The names of the country are inside \n",
    "        \n",
    "        <h3 class=\"country-name\">\n",
    "\n",
    "So lets search for this:"
   ]
  },
  {
   "cell_type": "code",
   "execution_count": 20,
   "id": "6129c2d5-5e75-4b22-8d94-87ea473528a2",
   "metadata": {},
   "outputs": [],
   "source": [
    "result = soup.find_all('span',class_=\"country-capital\")"
   ]
  },
  {
   "cell_type": "code",
   "execution_count": 22,
   "id": "bf0a0301-a7c3-4e79-a236-cce7547991aa",
   "metadata": {},
   "outputs": [
    {
     "data": {
      "text/plain": [
       "<span class=\"country-capital\">Andorra la Vella</span>"
      ]
     },
     "execution_count": 22,
     "metadata": {},
     "output_type": "execute_result"
    }
   ],
   "source": [
    "result[0]"
   ]
  },
  {
   "cell_type": "code",
   "execution_count": 24,
   "id": "95ad57dd-31e2-43e6-aa43-0b832af3aade",
   "metadata": {},
   "outputs": [
    {
     "data": {
      "text/plain": [
       "'Andorra la Vella'"
      ]
     },
     "execution_count": 24,
     "metadata": {},
     "output_type": "execute_result"
    }
   ],
   "source": [
    "result[0].text"
   ]
  },
  {
   "cell_type": "code",
   "execution_count": 26,
   "id": "aa7c4663-5aca-4899-95a6-9d83c310fe65",
   "metadata": {},
   "outputs": [
    {
     "data": {
      "text/html": [
       "<div>\n",
       "<style scoped>\n",
       "    .dataframe tbody tr th:only-of-type {\n",
       "        vertical-align: middle;\n",
       "    }\n",
       "\n",
       "    .dataframe tbody tr th {\n",
       "        vertical-align: top;\n",
       "    }\n",
       "\n",
       "    .dataframe thead th {\n",
       "        text-align: right;\n",
       "    }\n",
       "</style>\n",
       "<table border=\"1\" class=\"dataframe\">\n",
       "  <thead>\n",
       "    <tr style=\"text-align: right;\">\n",
       "      <th></th>\n",
       "      <th>capital</th>\n",
       "    </tr>\n",
       "  </thead>\n",
       "  <tbody>\n",
       "    <tr>\n",
       "      <th>0</th>\n",
       "      <td>Andorra la Vella</td>\n",
       "    </tr>\n",
       "    <tr>\n",
       "      <th>1</th>\n",
       "      <td>Abu Dhabi</td>\n",
       "    </tr>\n",
       "    <tr>\n",
       "      <th>2</th>\n",
       "      <td>Kabul</td>\n",
       "    </tr>\n",
       "    <tr>\n",
       "      <th>3</th>\n",
       "      <td>St. John's</td>\n",
       "    </tr>\n",
       "    <tr>\n",
       "      <th>4</th>\n",
       "      <td>The Valley</td>\n",
       "    </tr>\n",
       "    <tr>\n",
       "      <th>...</th>\n",
       "      <td>...</td>\n",
       "    </tr>\n",
       "    <tr>\n",
       "      <th>245</th>\n",
       "      <td>Sanaa</td>\n",
       "    </tr>\n",
       "    <tr>\n",
       "      <th>246</th>\n",
       "      <td>Mamoudzou</td>\n",
       "    </tr>\n",
       "    <tr>\n",
       "      <th>247</th>\n",
       "      <td>Pretoria</td>\n",
       "    </tr>\n",
       "    <tr>\n",
       "      <th>248</th>\n",
       "      <td>Lusaka</td>\n",
       "    </tr>\n",
       "    <tr>\n",
       "      <th>249</th>\n",
       "      <td>Harare</td>\n",
       "    </tr>\n",
       "  </tbody>\n",
       "</table>\n",
       "<p>250 rows × 1 columns</p>\n",
       "</div>"
      ],
      "text/plain": [
       "              capital\n",
       "0    Andorra la Vella\n",
       "1           Abu Dhabi\n",
       "2               Kabul\n",
       "3          St. John's\n",
       "4          The Valley\n",
       "..                ...\n",
       "245             Sanaa\n",
       "246         Mamoudzou\n",
       "247          Pretoria\n",
       "248            Lusaka\n",
       "249            Harare\n",
       "\n",
       "[250 rows x 1 columns]"
      ]
     },
     "execution_count": 26,
     "metadata": {},
     "output_type": "execute_result"
    }
   ],
   "source": [
    "# Create a data frame and add the site names\n",
    "DF = pd.DataFrame()\n",
    "DF['capital']=result\n",
    "DF['capital'] = DF['capital'].apply(lambda x: x.text)\n",
    "DF"
   ]
  },
  {
   "cell_type": "markdown",
   "id": "7038db58-994e-40b0-b8ca-c67a2af127b3",
   "metadata": {},
   "source": [
    "### Your turn to try this!\n",
    "\n",
    "**Q3** Now it's your turn. See if you can write code that gets the population and area information into the data frame. See if you can make your example match what I get below, including having the correct data types. Population should be an int and area should be a float.\n",
    "\n",
    "Your goal is to get a data frame that looks like the one in lecture with columns for country, capital, population, and area!"
   ]
  },
  {
   "cell_type": "code",
   "execution_count": 28,
   "id": "cfc701cd-845f-4c94-be87-f12e09381e33",
   "metadata": {},
   "outputs": [
    {
     "data": {
      "text/html": [
       "<div>\n",
       "<style scoped>\n",
       "    .dataframe tbody tr th:only-of-type {\n",
       "        vertical-align: middle;\n",
       "    }\n",
       "\n",
       "    .dataframe tbody tr th {\n",
       "        vertical-align: top;\n",
       "    }\n",
       "\n",
       "    .dataframe thead th {\n",
       "        text-align: right;\n",
       "    }\n",
       "</style>\n",
       "<table border=\"1\" class=\"dataframe\">\n",
       "  <thead>\n",
       "    <tr style=\"text-align: right;\">\n",
       "      <th></th>\n",
       "      <th>population</th>\n",
       "    </tr>\n",
       "  </thead>\n",
       "  <tbody>\n",
       "    <tr>\n",
       "      <th>0</th>\n",
       "      <td>84000</td>\n",
       "    </tr>\n",
       "    <tr>\n",
       "      <th>1</th>\n",
       "      <td>4975593</td>\n",
       "    </tr>\n",
       "    <tr>\n",
       "      <th>2</th>\n",
       "      <td>29121286</td>\n",
       "    </tr>\n",
       "    <tr>\n",
       "      <th>3</th>\n",
       "      <td>86754</td>\n",
       "    </tr>\n",
       "    <tr>\n",
       "      <th>4</th>\n",
       "      <td>13254</td>\n",
       "    </tr>\n",
       "    <tr>\n",
       "      <th>...</th>\n",
       "      <td>...</td>\n",
       "    </tr>\n",
       "    <tr>\n",
       "      <th>245</th>\n",
       "      <td>23495361</td>\n",
       "    </tr>\n",
       "    <tr>\n",
       "      <th>246</th>\n",
       "      <td>159042</td>\n",
       "    </tr>\n",
       "    <tr>\n",
       "      <th>247</th>\n",
       "      <td>49000000</td>\n",
       "    </tr>\n",
       "    <tr>\n",
       "      <th>248</th>\n",
       "      <td>13460305</td>\n",
       "    </tr>\n",
       "    <tr>\n",
       "      <th>249</th>\n",
       "      <td>11651858</td>\n",
       "    </tr>\n",
       "  </tbody>\n",
       "</table>\n",
       "<p>250 rows × 1 columns</p>\n",
       "</div>"
      ],
      "text/plain": [
       "    population\n",
       "0        84000\n",
       "1      4975593\n",
       "2     29121286\n",
       "3        86754\n",
       "4        13254\n",
       "..         ...\n",
       "245   23495361\n",
       "246     159042\n",
       "247   49000000\n",
       "248   13460305\n",
       "249   11651858\n",
       "\n",
       "[250 rows x 1 columns]"
      ]
     },
     "execution_count": 28,
     "metadata": {},
     "output_type": "execute_result"
    }
   ],
   "source": [
    "result = soup.find_all('span',class_=\"country-population\")\n",
    "result[0]\n",
    "result[0].text\n",
    "DF = pd.DataFrame()\n",
    "DF['population']=result\n",
    "DF['population'] = DF['population'].apply(lambda x: x.text)\n",
    "DF"
   ]
  },
  {
   "cell_type": "code",
   "execution_count": 46,
   "id": "54778b72-8921-4031-8fda-580e568e2771",
   "metadata": {},
   "outputs": [],
   "source": [
    "countries = soup.find_all('h3', class_=\"country-name\") "
   ]
  },
  {
   "cell_type": "code",
   "execution_count": 56,
   "id": "6b989714-61f2-48f8-a729-62d1e1b99102",
   "metadata": {},
   "outputs": [
    {
     "data": {
      "text/html": [
       "<div>\n",
       "<style scoped>\n",
       "    .dataframe tbody tr th:only-of-type {\n",
       "        vertical-align: middle;\n",
       "    }\n",
       "\n",
       "    .dataframe tbody tr th {\n",
       "        vertical-align: top;\n",
       "    }\n",
       "\n",
       "    .dataframe thead th {\n",
       "        text-align: right;\n",
       "    }\n",
       "</style>\n",
       "<table border=\"1\" class=\"dataframe\">\n",
       "  <thead>\n",
       "    <tr style=\"text-align: right;\">\n",
       "      <th></th>\n",
       "      <th>country</th>\n",
       "    </tr>\n",
       "  </thead>\n",
       "  <tbody>\n",
       "    <tr>\n",
       "      <th>0</th>\n",
       "      <td>\\n\\n                            Andorra\\n     ...</td>\n",
       "    </tr>\n",
       "    <tr>\n",
       "      <th>1</th>\n",
       "      <td>\\n\\n                            United Arab Em...</td>\n",
       "    </tr>\n",
       "    <tr>\n",
       "      <th>2</th>\n",
       "      <td>\\n\\n                            Afghanistan\\n ...</td>\n",
       "    </tr>\n",
       "    <tr>\n",
       "      <th>3</th>\n",
       "      <td>\\n\\n                            Antigua and Ba...</td>\n",
       "    </tr>\n",
       "    <tr>\n",
       "      <th>4</th>\n",
       "      <td>\\n\\n                            Anguilla\\n    ...</td>\n",
       "    </tr>\n",
       "    <tr>\n",
       "      <th>...</th>\n",
       "      <td>...</td>\n",
       "    </tr>\n",
       "    <tr>\n",
       "      <th>245</th>\n",
       "      <td>\\n\\n                            Yemen\\n       ...</td>\n",
       "    </tr>\n",
       "    <tr>\n",
       "      <th>246</th>\n",
       "      <td>\\n\\n                            Mayotte\\n     ...</td>\n",
       "    </tr>\n",
       "    <tr>\n",
       "      <th>247</th>\n",
       "      <td>\\n\\n                            South Africa\\n...</td>\n",
       "    </tr>\n",
       "    <tr>\n",
       "      <th>248</th>\n",
       "      <td>\\n\\n                            Zambia\\n      ...</td>\n",
       "    </tr>\n",
       "    <tr>\n",
       "      <th>249</th>\n",
       "      <td>\\n\\n                            Zimbabwe\\n    ...</td>\n",
       "    </tr>\n",
       "  </tbody>\n",
       "</table>\n",
       "<p>250 rows × 1 columns</p>\n",
       "</div>"
      ],
      "text/plain": [
       "                                               country\n",
       "0    \\n\\n                            Andorra\\n     ...\n",
       "1    \\n\\n                            United Arab Em...\n",
       "2    \\n\\n                            Afghanistan\\n ...\n",
       "3    \\n\\n                            Antigua and Ba...\n",
       "4    \\n\\n                            Anguilla\\n    ...\n",
       "..                                                 ...\n",
       "245  \\n\\n                            Yemen\\n       ...\n",
       "246  \\n\\n                            Mayotte\\n     ...\n",
       "247  \\n\\n                            South Africa\\n...\n",
       "248  \\n\\n                            Zambia\\n      ...\n",
       "249  \\n\\n                            Zimbabwe\\n    ...\n",
       "\n",
       "[250 rows x 1 columns]"
      ]
     },
     "execution_count": 56,
     "metadata": {},
     "output_type": "execute_result"
    }
   ],
   "source": [
    "countries = soup.find_all('h3',class_=\"country-name\")\n",
    "countries[0]\n",
    "countries[0].text\n",
    "DF = pd.DataFrame()\n",
    "DF['country']=countries\n",
    "DF['country'] = DF['country'].apply(lambda x: x.text)\n",
    "DF"
   ]
  },
  {
   "cell_type": "code",
   "execution_count": 72,
   "id": "b8221f47-5660-4f3c-95b1-dfc944b0bd41",
   "metadata": {},
   "outputs": [
    {
     "data": {
      "text/html": [
       "<div>\n",
       "<style scoped>\n",
       "    .dataframe tbody tr th:only-of-type {\n",
       "        vertical-align: middle;\n",
       "    }\n",
       "\n",
       "    .dataframe tbody tr th {\n",
       "        vertical-align: top;\n",
       "    }\n",
       "\n",
       "    .dataframe thead th {\n",
       "        text-align: right;\n",
       "    }\n",
       "</style>\n",
       "<table border=\"1\" class=\"dataframe\">\n",
       "  <thead>\n",
       "    <tr style=\"text-align: right;\">\n",
       "      <th></th>\n",
       "      <th>country</th>\n",
       "      <th>population</th>\n",
       "      <th>area</th>\n",
       "      <th>capital</th>\n",
       "    </tr>\n",
       "  </thead>\n",
       "  <tbody>\n",
       "    <tr>\n",
       "      <th>0</th>\n",
       "      <td>Andorra           ...</td>\n",
       "      <td>84000</td>\n",
       "      <td>468.0</td>\n",
       "      <td>Andorra la Vella</td>\n",
       "    </tr>\n",
       "    <tr>\n",
       "      <th>1</th>\n",
       "      <td>United Arab Emirat...</td>\n",
       "      <td>4975593</td>\n",
       "      <td>82880.0</td>\n",
       "      <td>Abu Dhabi</td>\n",
       "    </tr>\n",
       "    <tr>\n",
       "      <th>2</th>\n",
       "      <td>Afghanistan       ...</td>\n",
       "      <td>29121286</td>\n",
       "      <td>647500.0</td>\n",
       "      <td>Kabul</td>\n",
       "    </tr>\n",
       "    <tr>\n",
       "      <th>3</th>\n",
       "      <td>Antigua and Barbud...</td>\n",
       "      <td>86754</td>\n",
       "      <td>443.0</td>\n",
       "      <td>St. John's</td>\n",
       "    </tr>\n",
       "    <tr>\n",
       "      <th>4</th>\n",
       "      <td>Anguilla          ...</td>\n",
       "      <td>13254</td>\n",
       "      <td>102.0</td>\n",
       "      <td>The Valley</td>\n",
       "    </tr>\n",
       "    <tr>\n",
       "      <th>...</th>\n",
       "      <td>...</td>\n",
       "      <td>...</td>\n",
       "      <td>...</td>\n",
       "      <td>...</td>\n",
       "    </tr>\n",
       "    <tr>\n",
       "      <th>245</th>\n",
       "      <td>Yemen             ...</td>\n",
       "      <td>23495361</td>\n",
       "      <td>527970.0</td>\n",
       "      <td>Sanaa</td>\n",
       "    </tr>\n",
       "    <tr>\n",
       "      <th>246</th>\n",
       "      <td>Mayotte           ...</td>\n",
       "      <td>159042</td>\n",
       "      <td>374.0</td>\n",
       "      <td>Mamoudzou</td>\n",
       "    </tr>\n",
       "    <tr>\n",
       "      <th>247</th>\n",
       "      <td>South Africa      ...</td>\n",
       "      <td>49000000</td>\n",
       "      <td>1219912.0</td>\n",
       "      <td>Pretoria</td>\n",
       "    </tr>\n",
       "    <tr>\n",
       "      <th>248</th>\n",
       "      <td>Zambia            ...</td>\n",
       "      <td>13460305</td>\n",
       "      <td>752614.0</td>\n",
       "      <td>Lusaka</td>\n",
       "    </tr>\n",
       "    <tr>\n",
       "      <th>249</th>\n",
       "      <td>Zimbabwe          ...</td>\n",
       "      <td>11651858</td>\n",
       "      <td>390580.0</td>\n",
       "      <td>Harare</td>\n",
       "    </tr>\n",
       "  </tbody>\n",
       "</table>\n",
       "<p>250 rows × 4 columns</p>\n",
       "</div>"
      ],
      "text/plain": [
       "                                               country population       area  \\\n",
       "0                                Andorra           ...      84000      468.0   \n",
       "1                                United Arab Emirat...    4975593    82880.0   \n",
       "2                                Afghanistan       ...   29121286   647500.0   \n",
       "3                                Antigua and Barbud...      86754      443.0   \n",
       "4                                Anguilla          ...      13254      102.0   \n",
       "..                                                 ...        ...        ...   \n",
       "245                              Yemen             ...   23495361   527970.0   \n",
       "246                              Mayotte           ...     159042      374.0   \n",
       "247                              South Africa      ...   49000000  1219912.0   \n",
       "248                              Zambia            ...   13460305   752614.0   \n",
       "249                              Zimbabwe          ...   11651858   390580.0   \n",
       "\n",
       "              capital  \n",
       "0    Andorra la Vella  \n",
       "1           Abu Dhabi  \n",
       "2               Kabul  \n",
       "3          St. John's  \n",
       "4          The Valley  \n",
       "..                ...  \n",
       "245             Sanaa  \n",
       "246         Mamoudzou  \n",
       "247          Pretoria  \n",
       "248            Lusaka  \n",
       "249            Harare  \n",
       "\n",
       "[250 rows x 4 columns]"
      ]
     },
     "execution_count": 72,
     "metadata": {},
     "output_type": "execute_result"
    }
   ],
   "source": [
    "countries = soup.find_all('h3', class_=\"country-name\") \n",
    "populations = soup.find_all('span', class_=\"country-population\")  \n",
    "areas = soup.find_all('span', class_=\"country-area\")  \n",
    "capitals = soup.find_all('span', class_=\"country-capital\") \n",
    "\n",
    "\n",
    "DF = pd.DataFrame()\n",
    "\n",
    "DF['country'] = countries\n",
    "DF['population'] = populations\n",
    "DF['area'] = areas\n",
    "DF['capital'] = capitals\n",
    "\n",
    "DF['country'] = DF['country'].apply(lambda x: x.text.replace('\\n',''))\n",
    "DF['population'] = DF['population'].apply(lambda x: x.text)\n",
    "DF['area'] = DF['area'].apply(lambda x: x.text)\n",
    "DF['capital'] = DF['capital'].apply(lambda x: x.text)\n",
    "\n",
    "DF\n"
   ]
  },
  {
   "cell_type": "code",
   "execution_count": null,
   "id": "57dbe318-770d-4a3c-b813-d12035973c87",
   "metadata": {},
   "outputs": [],
   "source": []
  },
  {
   "cell_type": "markdown",
   "id": "ccdc8ae8-0880-4abb-a9ef-7d497210ee34",
   "metadata": {},
   "source": [
    "### Challenge Problem\n",
    "\n",
    "Here is another website to scrape. See if you can create a data frame that looks like the one in the lecture notes. Notice that you can only scrape the first page with the first link. \n",
    "\n",
    "If you want to try scraping the other pages you have to notice how the website updates its address for each page. Then write a for loop to loop through how ever many pages you want to scrape. Do the same set of operations for each page keep adding data to your data frame.\n",
    "\n",
    "Make a histogram of your final data."
   ]
  },
  {
   "cell_type": "markdown",
   "id": "176e1115-9454-41ae-92fb-c65426fb2fd4",
   "metadata": {},
   "source": [
    "### Where can you get more practice\n",
    "\n",
    "Here is a website dedicated to allowing students to practice webscraping:\n",
    "\n",
    "[www.scrapethissite.com](https://www.scrapethissite.com/pages/)\n",
    "\n",
    "-----------------\n",
    "### Exercise 1:\n",
    "\n",
    "We are going to scrape the site above to get the list of all links. \n",
    "\n",
    "Open the website and look at the developer tools.\n",
    "\n",
    "Here is our goal: Make a pandas data frame that contains three columns: \n",
    "\n",
    "* \"site_name\" - which contains just the words of the link\n",
    "* \"link\" - which contains just the website part of the link\n",
    "* \"description\" - which contains the words below the link\n",
    "\n",
    "When looking for links you can use\n",
    "\n",
    "    result = soup.find_all('a')\n",
    "    result[0].text # Get the text associated with the link\n",
    "    result[0].get('href') # Get the link location\n",
    "\n",
    "\n",
    "\n",
    "See if you can do this without looking at my code in the notes! What would your plan have to be?\n",
    "\n",
    "**See the lecture notes for hints and the solution!**\n"
   ]
  },
  {
   "cell_type": "code",
   "execution_count": 343,
   "id": "267722fb-a33b-4969-82eb-26c94edd0bb6",
   "metadata": {},
   "outputs": [],
   "source": [
    "website='https://www.scrapethissite.com/pages/'\n",
    "raw_code = requests.get(website)\n",
    "html_doc = raw_code.text\n",
    "soup = BeautifulSoup(html_doc, 'html.parser')"
   ]
  },
  {
   "cell_type": "code",
   "execution_count": 349,
   "id": "aa273253-48d0-4033-b617-b9b203241021",
   "metadata": {},
   "outputs": [
    {
     "data": {
      "text/plain": [
       "'/'"
      ]
     },
     "execution_count": 349,
     "metadata": {},
     "output_type": "execute_result"
    }
   ],
   "source": [
    "result = soup.find_all('a')\n",
    "result[0].text.rstrip().lstrip()\n",
    "# The first few are from the top of the page not the main content\n",
    "result[0].get('href')"
   ]
  },
  {
   "cell_type": "code",
   "execution_count": 351,
   "id": "7f99e73f-4613-4650-bbed-467f15f949da",
   "metadata": {},
   "outputs": [
    {
     "data": {
      "text/html": [
       "<div>\n",
       "<style scoped>\n",
       "    .dataframe tbody tr th:only-of-type {\n",
       "        vertical-align: middle;\n",
       "    }\n",
       "\n",
       "    .dataframe tbody tr th {\n",
       "        vertical-align: top;\n",
       "    }\n",
       "\n",
       "    .dataframe thead th {\n",
       "        text-align: right;\n",
       "    }\n",
       "</style>\n",
       "<table border=\"1\" class=\"dataframe\">\n",
       "  <thead>\n",
       "    <tr style=\"text-align: right;\">\n",
       "      <th></th>\n",
       "      <th>site_name</th>\n",
       "      <th>link</th>\n",
       "      <th>description</th>\n",
       "    </tr>\n",
       "  </thead>\n",
       "  <tbody>\n",
       "    <tr>\n",
       "      <th>0</th>\n",
       "      <td>A single page that lists information about all...</td>\n",
       "      <td>None</td>\n",
       "      <td>A single page that lists information about all...</td>\n",
       "    </tr>\n",
       "    <tr>\n",
       "      <th>1</th>\n",
       "      <td>Browse through a database of NHL team stats si...</td>\n",
       "      <td>None</td>\n",
       "      <td>Browse through a database of NHL team stats si...</td>\n",
       "    </tr>\n",
       "    <tr>\n",
       "      <th>2</th>\n",
       "      <td>Click through a bunch of great films. Learn ho...</td>\n",
       "      <td>None</td>\n",
       "      <td>Click through a bunch of great films. Learn ho...</td>\n",
       "    </tr>\n",
       "    <tr>\n",
       "      <th>3</th>\n",
       "      <td>Some older sites might still use frames to bre...</td>\n",
       "      <td>None</td>\n",
       "      <td>Some older sites might still use frames to bre...</td>\n",
       "    </tr>\n",
       "    <tr>\n",
       "      <th>4</th>\n",
       "      <td>Scraping real websites, you're likely run into...</td>\n",
       "      <td>None</td>\n",
       "      <td>Scraping real websites, you're likely run into...</td>\n",
       "    </tr>\n",
       "  </tbody>\n",
       "</table>\n",
       "</div>"
      ],
      "text/plain": [
       "                                           site_name  link  \\\n",
       "0  A single page that lists information about all...  None   \n",
       "1  Browse through a database of NHL team stats si...  None   \n",
       "2  Click through a bunch of great films. Learn ho...  None   \n",
       "3  Some older sites might still use frames to bre...  None   \n",
       "4  Scraping real websites, you're likely run into...  None   \n",
       "\n",
       "                                         description  \n",
       "0  A single page that lists information about all...  \n",
       "1  Browse through a database of NHL team stats si...  \n",
       "2  Click through a bunch of great films. Learn ho...  \n",
       "3  Some older sites might still use frames to bre...  \n",
       "4  Scraping real websites, you're likely run into...  "
      ]
     },
     "execution_count": 351,
     "metadata": {},
     "output_type": "execute_result"
    }
   ],
   "source": [
    "DF = pd.DataFrame()\n",
    "result = soup.find_all('p',class_=\"lead session-desc\")\n",
    "DF['site_name'] = result\n",
    "DF['site_name'] = DF['site_name'].apply(lambda x: x.text.lstrip().rstrip())\n",
    "DF['link'] = result\n",
    "DF['link'] = DF['link'].apply(lambda x: x.get('href'))\n",
    "DF['description'] = result\n",
    "DF['description'] = DF['description'].apply(lambda x: x.text.rstrip().lstrip())\n",
    "DF"
   ]
  },
  {
   "cell_type": "code",
   "execution_count": 110,
   "id": "11ea1305-20c2-4307-9bfc-eeec5083d17e",
   "metadata": {},
   "outputs": [
    {
     "name": "stdout",
     "output_type": "stream",
     "text": [
      "                                             results      links\n",
      "0  \\n\\n                                Scrape Thi...          /\n",
      "1  \\n\\n                                Sandbox\\n ...    /pages/\n",
      "2  \\n\\n                                Lessons\\n ...  /lessons/\n",
      "3  \\n\\n                                FAQ\\n     ...      /faq/\n",
      "4  \\n                                Login\\n     ...    /login/\n",
      "5                                                       /pages/\n",
      "6                                                     /lessons/\n"
     ]
    }
   ],
   "source": [
    "# Get all the anchor tags\n",
    "results = soup.find_all('a')\n",
    "\n",
    "# Create an empty DataFrame\n",
    "import pandas as pd\n",
    "DF = pd.DataFrame()\n",
    "\n",
    "# Extract text from each anchor tag and store in DataFrame\n",
    "DF['results'] = [result.text for result in results]\n",
    "\n",
    "# Alternatively, if you want to extract href attributes instead of text\n",
    "DF['links'] = [result.get('href') for result in results]\n",
    "\n",
    "# Display the DataFrame\n",
    "print(DF)\n"
   ]
  },
  {
   "cell_type": "markdown",
   "id": "09b86c1d-5c13-4178-9685-c09922f4ec2d",
   "metadata": {},
   "source": [
    "**Try to scrape the name, the link to the book, and the prices! I decided to put the name and link information into a single column and then break that apart**"
   ]
  },
  {
   "cell_type": "code",
   "execution_count": 240,
   "id": "429be6b6-4fdc-41e4-a481-c778ac9bc9ca",
   "metadata": {},
   "outputs": [],
   "source": [
    "website='https://books.toscrape.com/index.html'\n",
    "raw_code = requests.get(website)\n",
    "html_doc = raw_code.text\n",
    "soup = BeautifulSoup(html_doc, 'html.parser')"
   ]
  },
  {
   "cell_type": "code",
   "execution_count": 124,
   "id": "679dda87-9e16-4b9b-95ee-1d8343407b7f",
   "metadata": {},
   "outputs": [
    {
     "data": {
      "text/html": [
       "<div>\n",
       "<style scoped>\n",
       "    .dataframe tbody tr th:only-of-type {\n",
       "        vertical-align: middle;\n",
       "    }\n",
       "\n",
       "    .dataframe tbody tr th {\n",
       "        vertical-align: top;\n",
       "    }\n",
       "\n",
       "    .dataframe thead th {\n",
       "        text-align: right;\n",
       "    }\n",
       "</style>\n",
       "<table border=\"1\" class=\"dataframe\">\n",
       "  <thead>\n",
       "    <tr style=\"text-align: right;\">\n",
       "      <th></th>\n",
       "      <th>book_title</th>\n",
       "      <th>price</th>\n",
       "      <th>link</th>\n",
       "    </tr>\n",
       "  </thead>\n",
       "  <tbody>\n",
       "  </tbody>\n",
       "</table>\n",
       "</div>"
      ],
      "text/plain": [
       "Empty DataFrame\n",
       "Columns: [book_title, price, link]\n",
       "Index: []"
      ]
     },
     "execution_count": 124,
     "metadata": {},
     "output_type": "execute_result"
    }
   ],
   "source": [
    "\n",
    "# Scrape book names, links, and prices\n",
    "book_titles = soup.find_all('h3')  # Book titles are in <h3> tags\n",
    "book_prices = soup.find_all('p', class_='price_color')  # Prices are in <p> tags with class 'price_color'\n",
    "book_links = soup.find_all('h3')  # Links are in <h3> tags nested in <a> tags\n",
    "\n",
    "# Create an empty DataFrame\n",
    "DF = pd.DataFrame()\n",
    "\n",
    "# Fill the DataFrame\n",
    "DF['book_title'] = book_titles\n",
    "DF['price'] = book_prices\n",
    "DF['link'] = book_links\n",
    "\n",
    "# Extract text and links from the scraped data\n",
    "DF['book_title'] = DF['book_title'].apply(lambda x: x.a['title'])\n",
    "DF['price'] = DF['price'].apply(lambda x: x.text)\n",
    "DF['link'] = DF['link'].apply(lambda x: 'https://books.toscrape.com/' + x.a['href'])\n",
    "\n",
    "DF\n"
   ]
  },
  {
   "cell_type": "code",
   "execution_count": 128,
   "id": "53ff8583-a91d-4ca3-935d-6f746176c5ed",
   "metadata": {},
   "outputs": [
    {
     "data": {
      "text/plain": [
       "[]"
      ]
     },
     "execution_count": 128,
     "metadata": {},
     "output_type": "execute_result"
    }
   ],
   "source": [
    "book_titles = soup.find_all('h3')\n",
    "book_titles"
   ]
  },
  {
   "cell_type": "code",
   "execution_count": 136,
   "id": "c2101748-4d02-4c1f-8fb2-2e45367c5154",
   "metadata": {},
   "outputs": [
    {
     "data": {
      "text/plain": [
       "[]"
      ]
     },
     "execution_count": 136,
     "metadata": {},
     "output_type": "execute_result"
    }
   ],
   "source": [
    "book_links = soup.find_all('href')\n",
    "book_links"
   ]
  },
  {
   "cell_type": "code",
   "execution_count": 204,
   "id": "08613fec-b6db-44cd-b093-69e43704cef0",
   "metadata": {},
   "outputs": [
    {
     "data": {
      "text/plain": [
       "<p class=\"price_color\">Â£51.77</p>"
      ]
     },
     "execution_count": 204,
     "metadata": {},
     "output_type": "execute_result"
    }
   ],
   "source": [
    "everything = soup.find_all('p', class_=\"price_color\")\n",
    "everything[0].striptext\n",
    "everything[0]"
   ]
  },
  {
   "cell_type": "code",
   "execution_count": 243,
   "id": "e7f1499f-3e70-46ef-9d1e-2b5d3c788757",
   "metadata": {},
   "outputs": [
    {
     "data": {
      "text/html": [
       "<div>\n",
       "<style scoped>\n",
       "    .dataframe tbody tr th:only-of-type {\n",
       "        vertical-align: middle;\n",
       "    }\n",
       "\n",
       "    .dataframe tbody tr th {\n",
       "        vertical-align: top;\n",
       "    }\n",
       "\n",
       "    .dataframe thead th {\n",
       "        text-align: right;\n",
       "    }\n",
       "</style>\n",
       "<table border=\"1\" class=\"dataframe\">\n",
       "  <thead>\n",
       "    <tr style=\"text-align: right;\">\n",
       "      <th></th>\n",
       "      <th>book_title</th>\n",
       "      <th>price</th>\n",
       "      <th>link</th>\n",
       "    </tr>\n",
       "  </thead>\n",
       "  <tbody>\n",
       "    <tr>\n",
       "      <th>0</th>\n",
       "      <td>NaN</td>\n",
       "      <td>51.77</td>\n",
       "      <td>NaN</td>\n",
       "    </tr>\n",
       "    <tr>\n",
       "      <th>1</th>\n",
       "      <td>NaN</td>\n",
       "      <td>53.74</td>\n",
       "      <td>NaN</td>\n",
       "    </tr>\n",
       "    <tr>\n",
       "      <th>2</th>\n",
       "      <td>NaN</td>\n",
       "      <td>50.10</td>\n",
       "      <td>NaN</td>\n",
       "    </tr>\n",
       "    <tr>\n",
       "      <th>3</th>\n",
       "      <td>NaN</td>\n",
       "      <td>47.82</td>\n",
       "      <td>NaN</td>\n",
       "    </tr>\n",
       "    <tr>\n",
       "      <th>4</th>\n",
       "      <td>NaN</td>\n",
       "      <td>54.23</td>\n",
       "      <td>NaN</td>\n",
       "    </tr>\n",
       "    <tr>\n",
       "      <th>5</th>\n",
       "      <td>NaN</td>\n",
       "      <td>22.65</td>\n",
       "      <td>NaN</td>\n",
       "    </tr>\n",
       "    <tr>\n",
       "      <th>6</th>\n",
       "      <td>NaN</td>\n",
       "      <td>33.34</td>\n",
       "      <td>NaN</td>\n",
       "    </tr>\n",
       "    <tr>\n",
       "      <th>7</th>\n",
       "      <td>NaN</td>\n",
       "      <td>17.93</td>\n",
       "      <td>NaN</td>\n",
       "    </tr>\n",
       "    <tr>\n",
       "      <th>8</th>\n",
       "      <td>NaN</td>\n",
       "      <td>22.60</td>\n",
       "      <td>NaN</td>\n",
       "    </tr>\n",
       "    <tr>\n",
       "      <th>9</th>\n",
       "      <td>NaN</td>\n",
       "      <td>52.15</td>\n",
       "      <td>NaN</td>\n",
       "    </tr>\n",
       "    <tr>\n",
       "      <th>10</th>\n",
       "      <td>NaN</td>\n",
       "      <td>13.99</td>\n",
       "      <td>NaN</td>\n",
       "    </tr>\n",
       "    <tr>\n",
       "      <th>11</th>\n",
       "      <td>NaN</td>\n",
       "      <td>20.66</td>\n",
       "      <td>NaN</td>\n",
       "    </tr>\n",
       "    <tr>\n",
       "      <th>12</th>\n",
       "      <td>NaN</td>\n",
       "      <td>17.46</td>\n",
       "      <td>NaN</td>\n",
       "    </tr>\n",
       "    <tr>\n",
       "      <th>13</th>\n",
       "      <td>NaN</td>\n",
       "      <td>52.29</td>\n",
       "      <td>NaN</td>\n",
       "    </tr>\n",
       "    <tr>\n",
       "      <th>14</th>\n",
       "      <td>NaN</td>\n",
       "      <td>35.02</td>\n",
       "      <td>NaN</td>\n",
       "    </tr>\n",
       "    <tr>\n",
       "      <th>15</th>\n",
       "      <td>NaN</td>\n",
       "      <td>57.25</td>\n",
       "      <td>NaN</td>\n",
       "    </tr>\n",
       "    <tr>\n",
       "      <th>16</th>\n",
       "      <td>NaN</td>\n",
       "      <td>23.88</td>\n",
       "      <td>NaN</td>\n",
       "    </tr>\n",
       "    <tr>\n",
       "      <th>17</th>\n",
       "      <td>NaN</td>\n",
       "      <td>37.59</td>\n",
       "      <td>NaN</td>\n",
       "    </tr>\n",
       "    <tr>\n",
       "      <th>18</th>\n",
       "      <td>NaN</td>\n",
       "      <td>51.33</td>\n",
       "      <td>NaN</td>\n",
       "    </tr>\n",
       "    <tr>\n",
       "      <th>19</th>\n",
       "      <td>NaN</td>\n",
       "      <td>45.17</td>\n",
       "      <td>NaN</td>\n",
       "    </tr>\n",
       "  </tbody>\n",
       "</table>\n",
       "</div>"
      ],
      "text/plain": [
       "    book_title  price  link\n",
       "0          NaN  51.77   NaN\n",
       "1          NaN  53.74   NaN\n",
       "2          NaN  50.10   NaN\n",
       "3          NaN  47.82   NaN\n",
       "4          NaN  54.23   NaN\n",
       "5          NaN  22.65   NaN\n",
       "6          NaN  33.34   NaN\n",
       "7          NaN  17.93   NaN\n",
       "8          NaN  22.60   NaN\n",
       "9          NaN  52.15   NaN\n",
       "10         NaN  13.99   NaN\n",
       "11         NaN  20.66   NaN\n",
       "12         NaN  17.46   NaN\n",
       "13         NaN  52.29   NaN\n",
       "14         NaN  35.02   NaN\n",
       "15         NaN  57.25   NaN\n",
       "16         NaN  23.88   NaN\n",
       "17         NaN  37.59   NaN\n",
       "18         NaN  51.33   NaN\n",
       "19         NaN  45.17   NaN"
      ]
     },
     "execution_count": 243,
     "metadata": {},
     "output_type": "execute_result"
    }
   ],
   "source": [
    "price = soup.find_all('p', class_=\"price_color\")\n",
    "title = soup.find_all('h3', a=\"title\")\n",
    "title_link = soup.find_all('h3')\n",
    "title=book_title_link.a['title']\n",
    "book_link=book_title_link.a['href']\n",
    "DF-pd.DataFrame()\n",
    "DF['price']= price\n",
    "DF['price']=DF['price'].apply(lambda x: x.text.replace('<p class=\"price_color\">','').replace('</p>',''))\n",
    "DF['price']=DF['price'].apply(lambda x: x.replace('Â£',''))\n",
    "DF"
   ]
  },
  {
   "cell_type": "code",
   "execution_count": 277,
   "id": "09221e31-b023-4388-ad7b-7638d77cb873",
   "metadata": {
    "scrolled": true
   },
   "outputs": [
    {
     "data": {
      "text/plain": [
       "'A Light in the Attic'"
      ]
     },
     "execution_count": 277,
     "metadata": {},
     "output_type": "execute_result"
    }
   ],
   "source": [
    "book_title = soup.find_all('h3')\n",
    "book_title[0].a['title']"
   ]
  },
  {
   "cell_type": "code",
   "execution_count": 148,
   "id": "3d0b65e7-ae14-4440-985a-53d372c97d3c",
   "metadata": {},
   "outputs": [
    {
     "data": {
      "text/plain": [
       "[<a class=\"nav-link hidden-sm hidden-xs\" href=\"/\">\n",
       " <img id=\"nav-logo\" src=\"/static/images/scraper-icon.png\"/>\n",
       "                                 Scrape This Site\n",
       "                             </a>,\n",
       " <a class=\"nav-link\" href=\"/pages/\">\n",
       " <i class=\"glyphicon glyphicon-console hidden-sm hidden-xs\"></i>\n",
       "                                 Sandbox\n",
       "                             </a>,\n",
       " <a class=\"nav-link\" href=\"/lessons/\">\n",
       " <i class=\"glyphicon glyphicon-education hidden-sm hidden-xs\"></i>\n",
       "                                 Lessons\n",
       "                             </a>,\n",
       " <a class=\"nav-link\" href=\"/faq/\">\n",
       " <i class=\"glyphicon glyphicon-flag hidden-sm hidden-xs\"></i>\n",
       "                                 FAQ\n",
       "                             </a>,\n",
       " <a class=\"nav-link\" href=\"/login/\">\n",
       "                                 Login\n",
       "                             </a>,\n",
       " <a class=\"btn btn-lg btn-default\" href=\"/pages/\"></a>,\n",
       " <a class=\"btn btn-lg btn-primary\" href=\"/lessons/\"></a>]"
      ]
     },
     "execution_count": 148,
     "metadata": {},
     "output_type": "execute_result"
    }
   ],
   "source": [
    "everything"
   ]
  },
  {
   "cell_type": "code",
   "execution_count": null,
   "id": "56862d92-953b-4141-beed-f051d388f6e8",
   "metadata": {},
   "outputs": [],
   "source": []
  }
 ],
 "metadata": {
  "kernelspec": {
   "display_name": "Python 3 (ipykernel)",
   "language": "python",
   "name": "python3"
  },
  "language_info": {
   "codemirror_mode": {
    "name": "ipython",
    "version": 3
   },
   "file_extension": ".py",
   "mimetype": "text/x-python",
   "name": "python",
   "nbconvert_exporter": "python",
   "pygments_lexer": "ipython3",
   "version": "3.12.2"
  }
 },
 "nbformat": 4,
 "nbformat_minor": 5
}
